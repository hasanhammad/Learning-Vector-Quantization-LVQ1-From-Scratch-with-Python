{
  "cells": [
    {
      "cell_type": "markdown",
      "metadata": {
        "id": "L54ywUYqOBAe"
      },
      "source": [
        "## **Import Libraries**"
      ]
    },
    {
      "cell_type": "code",
      "execution_count": null,
      "metadata": {
        "id": "hwKTQ-99QgEM"
      },
      "outputs": [],
      "source": [
        "import numpy as np\n",
        "import pandas as pd\n",
        "import matplotlib.pyplot as plt"
      ]
    },
    {
      "cell_type": "markdown",
      "metadata": {
        "id": "WC0BLITQOS9E"
      },
      "source": [
        "## **load dataset**"
      ]
    },
    {
      "cell_type": "code",
      "execution_count": null,
      "metadata": {},
      "outputs": [],
      "source": [
        "##### load dataset ####"
      ]
    },
    {
      "cell_type": "markdown",
      "metadata": {},
      "source": [
        "## **set prototype**"
      ]
    },
    {
      "cell_type": "code",
      "execution_count": null,
      "metadata": {},
      "outputs": [],
      "source": [
        "#### set prototype ####"
      ]
    },
    {
      "cell_type": "markdown",
      "metadata": {
        "id": "GFgZQghUO9V2"
      },
      "source": [
        "## **show Plot data in 3D befor train**"
      ]
    },
    {
      "cell_type": "code",
      "execution_count": null,
      "metadata": {
        "id": "fzxm1i4yT6AE"
      },
      "outputs": [],
      "source": [
        "##### Plot Samples in 3D #####\n",
        "\n"
      ]
    },
    {
      "cell_type": "markdown",
      "metadata": {
        "id": "DYsbr2YpPIjt"
      },
      "source": [
        "## **LVQ1 Model Implementation From Scratch**"
      ]
    },
    {
      "cell_type": "code",
      "execution_count": 1,
      "metadata": {
        "id": "8w0XOoZHUPrF"
      },
      "outputs": [],
      "source": [
        "##### Implement your LVQ1 model here#####\n",
        "\n",
        "class LVQ:\n",
        "\n",
        "  def __init__(self, epochs, alpha):\n",
        "    self.epochs = epochs\n",
        "    self.alpha = alpha\n"
      ]
    },
    {
      "cell_type": "markdown",
      "metadata": {
        "id": "_1fjbqJjPyD1"
      },
      "source": [
        "## **Train Model**"
      ]
    },
    {
      "cell_type": "code",
      "execution_count": null,
      "metadata": {
        "id": "jVbyH4r2Lle1"
      },
      "outputs": [],
      "source": [
        "##### Implement your LVQ1 model here#####\n"
      ]
    },
    {
      "cell_type": "markdown",
      "metadata": {
        "id": "blIk9Eg_Qb0O"
      },
      "source": [
        "## **show plot data in 3D after train**"
      ]
    },
    {
      "cell_type": "code",
      "execution_count": null,
      "metadata": {
        "id": "f-RgL5A6M_6N"
      },
      "outputs": [],
      "source": [
        "##### Plot Samples Again To Observe The Changes In Prototypes After Training #####\n"
      ]
    },
    {
      "cell_type": "markdown",
      "metadata": {
        "id": "QpyCnp-aQjtF"
      },
      "source": [
        "## **Test Model**"
      ]
    },
    {
      "cell_type": "code",
      "execution_count": null,
      "metadata": {
        "id": "nhIcy6DYTGU_"
      },
      "outputs": [],
      "source": [
        "##### Test The Model With The Given Sample #####\n",
        "\n",
        "test_sample = np.array([[0.304, 1.488, 1.408]])"
      ]
    }
  ],
  "metadata": {
    "colab": {
      "collapsed_sections": [],
      "name": "NN_HW4_LVQ1.ipynb",
      "provenance": []
    },
    "kernelspec": {
      "display_name": "Python 3.8.6 64-bit",
      "language": "python",
      "name": "python3"
    },
    "language_info": {
      "name": "python",
      "version": "3.8.6"
    },
    "vscode": {
      "interpreter": {
        "hash": "9650cb4e16cdd4a8e8e2d128bf38d875813998db22a3c986335f89e0cb4d7bb2"
      }
    }
  },
  "nbformat": 4,
  "nbformat_minor": 0
}
